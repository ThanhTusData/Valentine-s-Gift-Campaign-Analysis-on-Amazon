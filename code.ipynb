{
 "cells": [
  {
   "cell_type": "markdown",
   "id": "364b453c-fc96-40fa-94b5-f28e802ba604",
   "metadata": {},
   "source": [
    "KHAI BÁO THƯ VIỆN VÀ ĐỌC DỮ LIỆU"
   ]
  },
  {
   "cell_type": "code",
   "execution_count": 2,
   "id": "ef3677b5-de35-4ef8-b2fc-73d1cf35ca6e",
   "metadata": {},
   "outputs": [],
   "source": [
    "import pandas as pd\n",
    "import numpy as np\n",
    "df = pd.read_csv('valentine gift.csv')"
   ]
  },
  {
   "cell_type": "markdown",
   "id": "c6ce01a2-693b-4361-b556-2cc669a29f60",
   "metadata": {},
   "source": [
    "EDA, KHAI THÁC DỮ LIỆU"
   ]
  },
  {
   "cell_type": "code",
   "execution_count": 3,
   "id": "86dab118-ea89-4b0f-a4a6-092da5c2a9c8",
   "metadata": {},
   "outputs": [
    {
     "data": {
      "text/plain": [
       "(218, 15)"
      ]
     },
     "execution_count": 3,
     "metadata": {},
     "output_type": "execute_result"
    }
   ],
   "source": [
    "df.shape"
   ]
  },
  {
   "cell_type": "code",
   "execution_count": 4,
   "id": "e876da52-c006-4c32-b580-fd7080a82167",
   "metadata": {},
   "outputs": [
    {
     "data": {
      "text/plain": [
       "Index(['title', 'brand', 'description', 'starsBreakdown/3star',\n",
       "       'starsBreakdown/4star', 'starsBreakdown/5star', 'reviewsCount', 'price',\n",
       "       'price/currency', 'price/value', 'categoryPageData/productPosition',\n",
       "       'Refined Title', 'Vector', 'Cluster', 'Gift Title Roles'],\n",
       "      dtype='object')"
      ]
     },
     "execution_count": 4,
     "metadata": {},
     "output_type": "execute_result"
    }
   ],
   "source": [
    "df.columns"
   ]
  },
  {
   "cell_type": "code",
   "execution_count": 5,
   "id": "c13af03c-272d-4b74-9333-f272faed22b6",
   "metadata": {},
   "outputs": [
    {
     "name": "stdout",
     "output_type": "stream",
     "text": [
      "<class 'pandas.core.frame.DataFrame'>\n",
      "RangeIndex: 218 entries, 0 to 217\n",
      "Data columns (total 15 columns):\n",
      " #   Column                            Non-Null Count  Dtype  \n",
      "---  ------                            --------------  -----  \n",
      " 0   title                             218 non-null    object \n",
      " 1   brand                             217 non-null    object \n",
      " 2   description                       46 non-null     object \n",
      " 3   starsBreakdown/3star              218 non-null    float64\n",
      " 4   starsBreakdown/4star              218 non-null    float64\n",
      " 5   starsBreakdown/5star              218 non-null    float64\n",
      " 6   reviewsCount                      216 non-null    float64\n",
      " 7   price                             0 non-null      float64\n",
      " 8   price/currency                    169 non-null    object \n",
      " 9   price/value                       169 non-null    float64\n",
      " 10  categoryPageData/productPosition  218 non-null    int64  \n",
      " 11  Refined Title                     218 non-null    object \n",
      " 12  Vector                            218 non-null    object \n",
      " 13  Cluster                           218 non-null    int64  \n",
      " 14  Gift Title Roles                  218 non-null    object \n",
      "dtypes: float64(6), int64(2), object(7)\n",
      "memory usage: 25.7+ KB\n"
     ]
    }
   ],
   "source": [
    "df.info()"
   ]
  },
  {
   "cell_type": "code",
   "execution_count": 6,
   "id": "5bc1e6a5-d022-4c5e-9c70-78d27f44eced",
   "metadata": {},
   "outputs": [
    {
     "data": {
      "text/plain": [
       "title                                 0\n",
       "brand                                 1\n",
       "description                         172\n",
       "starsBreakdown/3star                  0\n",
       "starsBreakdown/4star                  0\n",
       "starsBreakdown/5star                  0\n",
       "reviewsCount                          2\n",
       "price                               218\n",
       "price/currency                       49\n",
       "price/value                          49\n",
       "categoryPageData/productPosition      0\n",
       "Refined Title                         0\n",
       "Vector                                0\n",
       "Cluster                               0\n",
       "Gift Title Roles                      0\n",
       "dtype: int64"
      ]
     },
     "execution_count": 6,
     "metadata": {},
     "output_type": "execute_result"
    }
   ],
   "source": [
    "df.isnull().sum()"
   ]
  },
  {
   "cell_type": "code",
   "execution_count": 7,
   "id": "e855ed30-5007-4958-9d02-a48ac692d09e",
   "metadata": {},
   "outputs": [
    {
     "data": {
      "text/plain": [
       "title                               218\n",
       "brand                               168\n",
       "description                          46\n",
       "starsBreakdown/3star                 18\n",
       "starsBreakdown/4star                 27\n",
       "starsBreakdown/5star                 47\n",
       "reviewsCount                        182\n",
       "price                                 0\n",
       "price/currency                        1\n",
       "price/value                          82\n",
       "categoryPageData/productPosition    212\n",
       "Refined Title                       218\n",
       "Vector                              218\n",
       "Cluster                              10\n",
       "Gift Title Roles                     10\n",
       "dtype: int64"
      ]
     },
     "execution_count": 7,
     "metadata": {},
     "output_type": "execute_result"
    }
   ],
   "source": [
    "df.nunique()"
   ]
  },
  {
   "cell_type": "markdown",
   "id": "fff03891-20cb-4542-b13f-ba5e8d35ff90",
   "metadata": {},
   "source": [
    "LÀM SẠCH DỮ LIỆU"
   ]
  },
  {
   "cell_type": "code",
   "execution_count": 8,
   "id": "3b2cbac3-f162-47fe-96b3-694a86069aa0",
   "metadata": {},
   "outputs": [],
   "source": [
    "df=df.drop(['price','categoryPageData/productPosition'], axis=1)"
   ]
  },
  {
   "cell_type": "code",
   "execution_count": 9,
   "id": "3201c889-1339-45ce-bcee-2076a9869f47",
   "metadata": {},
   "outputs": [
    {
     "name": "stdout",
     "output_type": "stream",
     "text": [
      "<class 'pandas.core.frame.DataFrame'>\n",
      "RangeIndex: 218 entries, 0 to 217\n",
      "Data columns (total 13 columns):\n",
      " #   Column                Non-Null Count  Dtype  \n",
      "---  ------                --------------  -----  \n",
      " 0   title                 218 non-null    object \n",
      " 1   brand                 217 non-null    object \n",
      " 2   description           46 non-null     object \n",
      " 3   starsBreakdown/3star  218 non-null    float64\n",
      " 4   starsBreakdown/4star  218 non-null    float64\n",
      " 5   starsBreakdown/5star  218 non-null    float64\n",
      " 6   reviewsCount          216 non-null    float64\n",
      " 7   price/currency        169 non-null    object \n",
      " 8   price/value           169 non-null    float64\n",
      " 9   Refined Title         218 non-null    object \n",
      " 10  Vector                218 non-null    object \n",
      " 11  Cluster               218 non-null    int64  \n",
      " 12  Gift Title Roles      218 non-null    object \n",
      "dtypes: float64(5), int64(1), object(7)\n",
      "memory usage: 22.3+ KB\n"
     ]
    }
   ],
   "source": [
    "df.info()"
   ]
  },
  {
   "cell_type": "code",
   "execution_count": 10,
   "id": "39921ad8-b395-4380-8400-9a1f9bf90b0d",
   "metadata": {},
   "outputs": [],
   "source": [
    "mode_value = df['price/currency'].mode()[0]\n",
    "df['price/currency']=df['price/currency'].fillna(mode_value)"
   ]
  },
  {
   "cell_type": "code",
   "execution_count": 11,
   "id": "0a2aa663-9542-4088-8908-8bc7e4631b0f",
   "metadata": {},
   "outputs": [],
   "source": [
    "mode_value_1 = df['price/value'].mean()\n",
    "df['price/value']=round(df['price/value'].fillna(mode_value_1), 2)"
   ]
  },
  {
   "cell_type": "code",
   "execution_count": 12,
   "id": "99969fc3-133d-4a39-a089-7be969cf9636",
   "metadata": {},
   "outputs": [
    {
     "name": "stdout",
     "output_type": "stream",
     "text": [
      "<class 'pandas.core.frame.DataFrame'>\n",
      "RangeIndex: 218 entries, 0 to 217\n",
      "Data columns (total 13 columns):\n",
      " #   Column                Non-Null Count  Dtype  \n",
      "---  ------                --------------  -----  \n",
      " 0   title                 218 non-null    object \n",
      " 1   brand                 217 non-null    object \n",
      " 2   description           46 non-null     object \n",
      " 3   starsBreakdown/3star  218 non-null    float64\n",
      " 4   starsBreakdown/4star  218 non-null    float64\n",
      " 5   starsBreakdown/5star  218 non-null    float64\n",
      " 6   reviewsCount          216 non-null    float64\n",
      " 7   price/currency        218 non-null    object \n",
      " 8   price/value           218 non-null    float64\n",
      " 9   Refined Title         218 non-null    object \n",
      " 10  Vector                218 non-null    object \n",
      " 11  Cluster               218 non-null    int64  \n",
      " 12  Gift Title Roles      218 non-null    object \n",
      "dtypes: float64(5), int64(1), object(7)\n",
      "memory usage: 22.3+ KB\n"
     ]
    }
   ],
   "source": [
    "df.info()"
   ]
  },
  {
   "cell_type": "code",
   "execution_count": 13,
   "id": "b70d4a0a-883b-4307-9fe0-af00b70c5f6e",
   "metadata": {},
   "outputs": [],
   "source": [
    "df = df.dropna(subset=['brand', 'reviewsCount'])"
   ]
  },
  {
   "cell_type": "code",
   "execution_count": 14,
   "id": "57a2b2b3-8cde-4366-ba81-9e291d7182a5",
   "metadata": {},
   "outputs": [],
   "source": [
    "columns_to_drop = ['description', 'Vector', 'Cluster', 'Refined Title']\n",
    "columns_existing = [col for col in columns_to_drop if col in df.columns]\n",
    "\n",
    "df = df.drop(columns=columns_existing)"
   ]
  },
  {
   "cell_type": "code",
   "execution_count": 15,
   "id": "9b6d0634-270f-4dd1-94a5-6ac4629ecb34",
   "metadata": {},
   "outputs": [
    {
     "name": "stdout",
     "output_type": "stream",
     "text": [
      "<class 'pandas.core.frame.DataFrame'>\n",
      "Index: 215 entries, 0 to 217\n",
      "Data columns (total 9 columns):\n",
      " #   Column                Non-Null Count  Dtype  \n",
      "---  ------                --------------  -----  \n",
      " 0   title                 215 non-null    object \n",
      " 1   brand                 215 non-null    object \n",
      " 2   starsBreakdown/3star  215 non-null    float64\n",
      " 3   starsBreakdown/4star  215 non-null    float64\n",
      " 4   starsBreakdown/5star  215 non-null    float64\n",
      " 5   reviewsCount          215 non-null    float64\n",
      " 6   price/currency        215 non-null    object \n",
      " 7   price/value           215 non-null    float64\n",
      " 8   Gift Title Roles      215 non-null    object \n",
      "dtypes: float64(5), object(4)\n",
      "memory usage: 16.8+ KB\n"
     ]
    }
   ],
   "source": [
    "df.info()"
   ]
  },
  {
   "cell_type": "code",
   "execution_count": 16,
   "id": "15743f1e-6b1d-4fba-a8a3-9e4fd754348e",
   "metadata": {},
   "outputs": [],
   "source": [
    "df.rename(columns={ 'title':'Title', 'brand':'Brand', 'starsBreakdown/3star': 'Stars Breakdown 3 Star', \n",
    "                   'starsBreakdown/4star': 'Stars Breakdown 4 Star', 'starsBreakdown/5star': 'Stars Breakdown 5 Star',\n",
    "                   'reviewsCount':'Reviews Count', 'price/currency': 'Currency Symbol', 'price/value': 'Price Value'}, inplace=True)"
   ]
  },
  {
   "cell_type": "code",
   "execution_count": 17,
   "id": "210e354c-38b4-4a7e-be96-cda1fb6ddf66",
   "metadata": {},
   "outputs": [],
   "source": [
    "df['Price Category'] = pd.qcut(df['Price Value'], q=3, labels=['Low', 'Medium', 'High'])"
   ]
  },
  {
   "cell_type": "code",
   "execution_count": 18,
   "id": "63068097-803a-459b-8a76-93754f60ba60",
   "metadata": {},
   "outputs": [
    {
     "name": "stdout",
     "output_type": "stream",
     "text": [
      "<class 'pandas.core.frame.DataFrame'>\n",
      "Index: 215 entries, 0 to 217\n",
      "Data columns (total 10 columns):\n",
      " #   Column                  Non-Null Count  Dtype   \n",
      "---  ------                  --------------  -----   \n",
      " 0   Title                   215 non-null    object  \n",
      " 1   Brand                   215 non-null    object  \n",
      " 2   Stars Breakdown 3 Star  215 non-null    float64 \n",
      " 3   Stars Breakdown 4 Star  215 non-null    float64 \n",
      " 4   Stars Breakdown 5 Star  215 non-null    float64 \n",
      " 5   Reviews Count           215 non-null    float64 \n",
      " 6   Currency Symbol         215 non-null    object  \n",
      " 7   Price Value             215 non-null    float64 \n",
      " 8   Gift Title Roles        215 non-null    object  \n",
      " 9   Price Category          215 non-null    category\n",
      "dtypes: category(1), float64(5), object(4)\n",
      "memory usage: 17.1+ KB\n"
     ]
    }
   ],
   "source": [
    "df.info()"
   ]
  },
  {
   "cell_type": "markdown",
   "id": "d1d086cf-32a5-4993-9380-a9a33f36021b",
   "metadata": {},
   "source": [
    "LƯU DỮ LIỆU ĐÃ ĐƯỢC LÀM SẠCH"
   ]
  },
  {
   "cell_type": "code",
   "execution_count": 19,
   "id": "1c0360e2-1af8-4773-a859-1c4b75035abb",
   "metadata": {},
   "outputs": [],
   "source": [
    "df.to_csv('valentine gift.csv', index=False)"
   ]
  },
  {
   "cell_type": "code",
   "execution_count": null,
   "id": "f93a3284-683b-474e-bc61-86f8e544e533",
   "metadata": {},
   "outputs": [],
   "source": []
  }
 ],
 "metadata": {
  "kernelspec": {
   "display_name": "Python 3 (ipykernel)",
   "language": "python",
   "name": "python3"
  },
  "language_info": {
   "codemirror_mode": {
    "name": "ipython",
    "version": 3
   },
   "file_extension": ".py",
   "mimetype": "text/x-python",
   "name": "python",
   "nbconvert_exporter": "python",
   "pygments_lexer": "ipython3",
   "version": "3.12.4"
  }
 },
 "nbformat": 4,
 "nbformat_minor": 5
}
